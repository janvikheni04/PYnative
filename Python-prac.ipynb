{
 "cells": [
  {
   "cell_type": "code",
   "execution_count": 5,
   "id": "3f991f4a",
   "metadata": {},
   "outputs": [
    {
     "name": "stdout",
     "output_type": "stream",
     "text": [
      "800\n"
     ]
    }
   ],
   "source": [
    "#Calculate the multiplication and sum of two numbers\n",
    "#Given two integer numbers, return their product only if the product is equal to or lower than 1000. Otherwise, return their sum.\n",
    "\n",
    "n1 = 20\n",
    "n2 = 40\n",
    "\n",
    "if n1 * n2 <= 1000:\n",
    "    print(n1 * n2)\n",
    "else:\n",
    "    print(n1 + n2)\n",
    "       "
   ]
  },
  {
   "cell_type": "code",
   "execution_count": 6,
   "id": "8576246a",
   "metadata": {},
   "outputs": [
    {
     "name": "stdout",
     "output_type": "stream",
     "text": [
      "120\n",
      "200\n"
     ]
    }
   ],
   "source": [
    "def numbers(n1, n2):\n",
    "    a = n1 * n2\n",
    "    \n",
    "    if a <=1000:\n",
    "        return a\n",
    "    else:\n",
    "        return n1 + n2\n",
    "    \n",
    "b = numbers(50, 70)\n",
    "print(b)\n",
    "\n",
    "c = numbers(10, 20)\n",
    "print(c)"
   ]
  },
  {
   "cell_type": "code",
   "execution_count": 8,
   "id": "d8a94f40",
   "metadata": {},
   "outputs": [
    {
     "name": "stdout",
     "output_type": "stream",
     "text": [
      "Sum of current number 1 previous number 0 is: 1\n",
      "Sum of current number 2 previous number 1 is: 3\n",
      "Sum of current number 3 previous number 2 is: 5\n",
      "Sum of current number 4 previous number 3 is: 7\n",
      "Sum of current number 5 previous number 4 is: 9\n",
      "Sum of current number 6 previous number 5 is: 11\n",
      "Sum of current number 7 previous number 6 is: 13\n",
      "Sum of current number 8 previous number 7 is: 15\n",
      "Sum of current number 9 previous number 8 is: 17\n",
      "Sum of current number 10 previous number 9 is: 19\n"
     ]
    }
   ],
   "source": [
    "#Print the sum of the current number and the previous number\n",
    "prev_num = 0\n",
    "\n",
    "for i in range(1,11):\n",
    "    sum = prev_num + i\n",
    "    print(\"Sum of current number\", i, \"previous number\", prev_num,\"is:\", sum)\n",
    "    prev_num = i\n",
    "    "
   ]
  },
  {
   "cell_type": "code",
   "execution_count": 10,
   "id": "33eb2fbd",
   "metadata": {},
   "outputs": [
    {
     "name": "stdout",
     "output_type": "stream",
     "text": [
      "P\n",
      "t\n",
      "o\n",
      "W\n",
      "r\n",
      "d\n"
     ]
    }
   ],
   "source": [
    "#Print characters from a string that are present at an even index number\n",
    "\n",
    "a = \"PythonWorld\"\n",
    "for i in range(0, len(a), 2):\n",
    "    print(a[i])"
   ]
  },
  {
   "cell_type": "code",
   "execution_count": 11,
   "id": "53a857f8",
   "metadata": {},
   "outputs": [
    {
     "name": "stdout",
     "output_type": "stream",
     "text": [
      "String name:  Hello\n",
      "String name:  India\n",
      "llo\n",
      "ia\n"
     ]
    }
   ],
   "source": [
    "#Remove first n characters from a string\n",
    "def remove(string, n):\n",
    "    print(\"String name: \", string)\n",
    "    a = string[n:]\n",
    "    return a\n",
    "\n",
    "s1 = remove(\"Hello\", 2)\n",
    "s2 = remove(\"India\", 3)\n",
    "\n",
    "print(s1)\n",
    "print(s2)\n"
   ]
  },
  {
   "cell_type": "code",
   "execution_count": 15,
   "id": "1337320e",
   "metadata": {},
   "outputs": [
    {
     "name": "stdout",
     "output_type": "stream",
     "text": [
      "List: [1, 2, 3, 4, 5, 6]\n",
      "False\n",
      "List: [32, 45, 67, 23, 32]\n",
      "True\n"
     ]
    }
   ],
   "source": [
    "#Check if the first and last number of a list is the same\n",
    "def check(num):\n",
    "    print(\"List:\", num)\n",
    "    \n",
    "    firstIndex = num[0]\n",
    "    lastIndex = num[-1]\n",
    "    \n",
    "    if firstIndex == lastIndex:\n",
    "        return True\n",
    "    else:\n",
    "        return False\n",
    "    \n",
    "n1 = check([1,2,3,4,5,6])\n",
    "print(n1)\n",
    "\n",
    "n2 = check([32,45,67,23,32])\n",
    "print(n2)"
   ]
  },
  {
   "cell_type": "code",
   "execution_count": 16,
   "id": "d2123950",
   "metadata": {},
   "outputs": [
    {
     "name": "stdout",
     "output_type": "stream",
     "text": [
      "Listy is:  [20, 25, 67, 35, 53, 60]\n",
      "20\n",
      "25\n",
      "35\n",
      "60\n"
     ]
    }
   ],
   "source": [
    "#Display numbers divisible by 5 from a list\n",
    "listnum = [20, 25, 67, 35, 53, 60]\n",
    "print(\"Listy is: \", listnum)\n",
    "\n",
    "for i in listnum:\n",
    "    if i%5 == 0:\n",
    "        print(i)\n",
    "    "
   ]
  },
  {
   "cell_type": "code",
   "execution_count": 18,
   "id": "a0235dcb",
   "metadata": {},
   "outputs": [
    {
     "name": "stdout",
     "output_type": "stream",
     "text": [
      "2\n"
     ]
    }
   ],
   "source": [
    "#Return the count of a given substring from a string\n",
    "a = \"Hello Sir, Hello Madam\"\n",
    "b = a.count(\"Hello\")\n",
    "print(b)"
   ]
  },
  {
   "cell_type": "code",
   "execution_count": 21,
   "id": "7756ec96",
   "metadata": {},
   "outputs": [
    {
     "name": "stdout",
     "output_type": "stream",
     "text": [
      "\n",
      "\n",
      "1 \n",
      "\n",
      "2 2 \n",
      "\n",
      "3 3 3 \n",
      "\n",
      "4 4 4 4 \n",
      "\n",
      "5 5 5 5 5 \n",
      "\n"
     ]
    }
   ],
   "source": [
    "#print pattern \n",
    "for i in range(6):\n",
    "    for j in range(i):\n",
    "        print(i, end=\" \")\n",
    "    print(\"\\n\")"
   ]
  },
  {
   "cell_type": "code",
   "execution_count": 27,
   "id": "ccd5547e",
   "metadata": {},
   "outputs": [
    {
     "name": "stdout",
     "output_type": "stream",
     "text": [
      "212 is a palingdrome\n"
     ]
    }
   ],
   "source": [
    "#Check Palindrome Number\n",
    "def palingdrom(num):\n",
    "    number = str(num)\n",
    "    return number == number[::-1]\n",
    "\n",
    "n1=212\n",
    "if palingdrom(n1):\n",
    "    print(f\"{n1} is a palingdrome\")\n",
    "    \n",
    "else:\n",
    "    print(f\"{n1} is not palingdrome\")"
   ]
  },
  {
   "cell_type": "code",
   "execution_count": 28,
   "id": "4d25d9f3",
   "metadata": {},
   "outputs": [
    {
     "name": "stdout",
     "output_type": "stream",
     "text": [
      "Result list is: [1, 3, 5, 6, 8, 10]\n"
     ]
    }
   ],
   "source": [
    "#Given two list of numbers, write a program to create a new list such that the new list should contain odd numbers from the first list and even numbers from the second list.\n",
    "def twolist(l1, l2):\n",
    "    finalList = []\n",
    "    \n",
    "    for i in l1:\n",
    "        if i % 2 != 0:\n",
    "            finalList.append(i)\n",
    "            \n",
    "    for i in l2:\n",
    "        if i % 2 == 0:\n",
    "            finalList.append(i)\n",
    "            \n",
    "    return finalList\n",
    "\n",
    "l1 = [1,2,3,4,5]\n",
    "l2 = [6,7,8,9,10]\n",
    "print(\"Result list is:\", twolist(l1,l2))"
   ]
  },
  {
   "cell_type": "code",
   "execution_count": 30,
   "id": "d23623d7",
   "metadata": {},
   "outputs": [
    {
     "name": "stdout",
     "output_type": "stream",
     "text": [
      "Number : 34981\n",
      "18943"
     ]
    }
   ],
   "source": [
    "#Write a Program to extract each digit from an integer in the reverse order.\n",
    "num = 34981\n",
    "print(\"Number :\", num)\n",
    "while num > 0:\n",
    "    a= num % 10\n",
    "    num = num // 10\n",
    "    print(a, end=\"\")"
   ]
  },
  {
   "cell_type": "code",
   "execution_count": 31,
   "id": "6cb3b11f",
   "metadata": {},
   "outputs": [
    {
     "name": "stdout",
     "output_type": "stream",
     "text": [
      "Total tax is:  7000.0\n"
     ]
    }
   ],
   "source": [
    "#Calculate income tax for the given income by adhering to the rules below\n",
    "#10000*0% + 10000*10%  + 25000*20% = $6000.\n",
    "\n",
    "salary = 50000\n",
    "tax = 0\n",
    "\n",
    "if salary <= 10000:\n",
    "    tax = 0\n",
    "    \n",
    "elif salary <= 20000:\n",
    "    a = salary - 10000\n",
    "    tax = a * 0.1\n",
    "    \n",
    "else:\n",
    "    tax = 10000 * 0.1 + (salary - 20000) * 0.20\n",
    "    \n",
    "print(\"Total tax is: \", tax)\n",
    "\n"
   ]
  },
  {
   "cell_type": "code",
   "execution_count": 38,
   "id": "fd0f24da",
   "metadata": {},
   "outputs": [
    {
     "name": "stdout",
     "output_type": "stream",
     "text": [
      "1 2 3 4 5 6 7 8 9 10 \t\t\n",
      "2 4 6 8 10 12 14 16 18 20 \t\t\n",
      "3 6 9 12 15 18 21 24 27 30 \t\t\n",
      "4 8 12 16 20 24 28 32 36 40 \t\t\n",
      "5 10 15 20 25 30 35 40 45 50 \t\t\n",
      "6 12 18 24 30 36 42 48 54 60 \t\t\n",
      "7 14 21 28 35 42 49 56 63 70 \t\t\n",
      "8 16 24 32 40 48 56 64 72 80 \t\t\n",
      "9 18 27 36 45 54 63 72 81 90 \t\t\n",
      "10 20 30 40 50 60 70 80 90 100 \t\t\n"
     ]
    }
   ],
   "source": [
    "#print multiplication table from 1 to 10\n",
    "for i in range(1,11):\n",
    "    for j in range(1,11):\n",
    "        print(i*j, end=\" \")\n",
    "    print(\"\\t\\t\")    "
   ]
  },
  {
   "cell_type": "code",
   "execution_count": 43,
   "id": "3581714e",
   "metadata": {},
   "outputs": [
    {
     "name": "stdout",
     "output_type": "stream",
     "text": [
      "* * * * * *  \n",
      "* * * * *  \n",
      "* * * *  \n",
      "* * *  \n",
      "* *  \n",
      "*  \n",
      " \n"
     ]
    }
   ],
   "source": [
    "#Print a downward Half-Pyramid Pattern of Star\n",
    "for i in range(7, 0, -1):\n",
    "    for j in range(0, i-1):\n",
    "        print('*', end=\" \")\n",
    "    print( \" \")"
   ]
  },
  {
   "cell_type": "code",
   "execution_count": 45,
   "id": "0d3ef817",
   "metadata": {},
   "outputs": [
    {
     "name": "stdout",
     "output_type": "stream",
     "text": [
      "64\n"
     ]
    }
   ],
   "source": [
    "#Write a function called exponent(base, exp) that returns an int value of base raises to the power of exp.\n",
    "def exponent(base, exp):\n",
    "    return base ** exp\n",
    "\n",
    "op = exponent(2,6)\n",
    "print(op)"
   ]
  },
  {
   "cell_type": "markdown",
   "id": "6feb223c",
   "metadata": {},
   "source": [
    "## Python Input and Output Exercise"
   ]
  },
  {
   "cell_type": "code",
   "execution_count": 46,
   "id": "8caa2414",
   "metadata": {},
   "outputs": [
    {
     "name": "stdout",
     "output_type": "stream",
     "text": [
      "Enter number 1: 7\n",
      "Enter number 2: 9\n",
      "Multiplication of two numbers is:  63\n"
     ]
    }
   ],
   "source": [
    "#Write a program to accept two numbers from the user and calculate multiplication\n",
    "a1 = int(input(\"Enter number 1: \"))\n",
    "a2 = int(input(\"Enter number 2: \"))\n",
    "\n",
    "m = a1 * a2\n",
    "print(\"Multiplication of two numbers is: \", m)"
   ]
  },
  {
   "cell_type": "code",
   "execution_count": 47,
   "id": "3f92d6e5",
   "metadata": {},
   "outputs": [
    {
     "name": "stdout",
     "output_type": "stream",
     "text": [
      "Name**Is**James\n"
     ]
    }
   ],
   "source": [
    "#Display three string “Name”, “Is”, “James” as “Name**Is**James”\n",
    "print(\"Name\", \"Is\", \"James\", sep='**')"
   ]
  },
  {
   "cell_type": "code",
   "execution_count": 55,
   "id": "f79c7546",
   "metadata": {},
   "outputs": [
    {
     "name": "stdout",
     "output_type": "stream",
     "text": [
      "55\n"
     ]
    }
   ],
   "source": [
    "#Convert Decimal number to octal using print() output formatting\n",
    "number = 45\n",
    "print('%o' % number)"
   ]
  },
  {
   "cell_type": "code",
   "execution_count": 58,
   "id": "ecb4d755",
   "metadata": {},
   "outputs": [
    {
     "name": "stdout",
     "output_type": "stream",
     "text": [
      "456.77\n"
     ]
    }
   ],
   "source": [
    "#Display float number with 2 decimal places using\n",
    "a = 456.7654\n",
    "print('%.2f'% a)"
   ]
  },
  {
   "cell_type": "code",
   "execution_count": 60,
   "id": "4bbf6f7c",
   "metadata": {},
   "outputs": [
    {
     "name": "stdout",
     "output_type": "stream",
     "text": [
      "Enter index number 0 -\n",
      "12.43\n",
      "Enter index number 1 -\n",
      "34.65\n",
      "Enter index number 2 -\n",
      "87.98\n",
      "Enter index number 3 -\n",
      "23.1\n",
      "Enter index number 4 -\n",
      "67.8\n",
      "Input list is-  [12.43, 34.65, 87.98, 23.1, 67.8]\n"
     ]
    }
   ],
   "source": [
    "#Accept a list of 5 float numbers as an input from the user\n",
    "l = []\n",
    "for i in range(0,5):\n",
    "    print(\"Enter index number\", i , \"-\")\n",
    "    f = float(input())\n",
    "    l.append(f)\n",
    "print(\"Input list is- \", l)"
   ]
  },
  {
   "cell_type": "code",
   "execution_count": 68,
   "id": "e1f12ac2",
   "metadata": {},
   "outputs": [
    {
     "name": "stdout",
     "output_type": "stream",
     "text": [
      "Enter name: rakesh suresh mahesh\n",
      "First name:  rakesh\n",
      "Secound name:  suresh\n",
      "Third name:  mahesh\n"
     ]
    }
   ],
   "source": [
    "#accept any three string from one input() call\n",
    "a1, a2, a3 = input(\"Enter name: \").split()\n",
    "print(\"First name: \", a1)\n",
    "print(\"Secound name: \", a2)\n",
    "print(\"Third name: \", a3)"
   ]
  },
  {
   "cell_type": "code",
   "execution_count": 70,
   "id": "80ff6477",
   "metadata": {},
   "outputs": [
    {
     "name": "stdout",
     "output_type": "stream",
     "text": [
      "I have 1000 dollars so I can buy 3 football for 450.00 dollars.\n"
     ]
    }
   ],
   "source": [
    "#Format variables using a string.format() method.\n",
    "quantity = 3\n",
    "totalMoney = 1000\n",
    "price = 450\n",
    "a=(\"I have {1} dollars so I can buy {0} football for {2:.2f} dollars.\")\n",
    "print(a.format(quantity, totalMoney, price))"
   ]
  },
  {
   "cell_type": "markdown",
   "id": "131f5c90",
   "metadata": {},
   "source": [
    "## Python if else, for loop, and range()\n"
   ]
  },
  {
   "cell_type": "code",
   "execution_count": 1,
   "id": "41cd82c7",
   "metadata": {},
   "outputs": [
    {
     "name": "stdout",
     "output_type": "stream",
     "text": [
      "1\n",
      "2\n",
      "3\n",
      "4\n",
      "5\n",
      "6\n",
      "7\n",
      "8\n",
      "9\n",
      "10\n"
     ]
    }
   ],
   "source": [
    "i = 1\n",
    "while i <= 10:\n",
    "    print(i)\n",
    "    i += 1"
   ]
  },
  {
   "cell_type": "code",
   "execution_count": 3,
   "id": "11effc99",
   "metadata": {},
   "outputs": [
    {
     "name": "stdout",
     "output_type": "stream",
     "text": [
      "1  \n",
      "1 2  \n",
      "1 2 3  \n",
      "1 2 3 4  \n",
      "1 2 3 4 5  \n"
     ]
    }
   ],
   "source": [
    "#Print the following pattern\n",
    "a = 5\n",
    "for i in range(1, a+1):\n",
    "    for j in range(1, i+1):\n",
    "        print(j, end=\" \")\n",
    "    print(\" \")\n",
    "              "
   ]
  },
  {
   "cell_type": "code",
   "execution_count": 5,
   "id": "e2a08aa4",
   "metadata": {},
   "outputs": [
    {
     "name": "stdout",
     "output_type": "stream",
     "text": [
      "Enter number: 12\n",
      "sum is:  78\n"
     ]
    }
   ],
   "source": [
    "#Calculate the sum of all numbers from 1 to a given number\n",
    "sum = 0\n",
    "a = int(input(\"Enter number: \"))\n",
    "\n",
    "for i in range(1, a+1):\n",
    "    sum += i\n",
    "print(\"sum is: \", sum)"
   ]
  },
  {
   "cell_type": "code",
   "execution_count": 7,
   "id": "353a9799",
   "metadata": {},
   "outputs": [
    {
     "name": "stdout",
     "output_type": "stream",
     "text": [
      "5 X 1 = 5\n",
      "5 X 2 = 10\n",
      "5 X 3 = 15\n",
      "5 X 4 = 20\n",
      "5 X 5 = 25\n",
      "5 X 6 = 30\n",
      "5 X 7 = 35\n",
      "5 X 8 = 40\n",
      "5 X 9 = 45\n",
      "5 X 10 = 50\n"
     ]
    }
   ],
   "source": [
    "#Write a program to print multiplication table of a given number\n",
    "number = 5\n",
    "for i in range(1,11):\n",
    "    p = number * i\n",
    "    print(number, \"X\", i, \"=\", p)"
   ]
  },
  {
   "cell_type": "code",
   "execution_count": 8,
   "id": "630054fb",
   "metadata": {},
   "outputs": [
    {
     "name": "stdout",
     "output_type": "stream",
     "text": [
      "50\n",
      "150\n",
      "135\n",
      "90\n"
     ]
    }
   ],
   "source": [
    "#Display numbers from a list using loop\n",
    "#Write a program to display only those numbers from a list that satisfy the following conditions\n",
    "\n",
    "#The number must be divisible by five\n",
    "#If the number is greater than 150, then skip it and move to the next number\n",
    "#If the number is greater than 500, then stop the loop\n",
    "\n",
    "l = [12, 67, 50, 150, 32, 135, 90, 180]\n",
    "\n",
    "for i in l:\n",
    "    if i>500:\n",
    "        break\n",
    "    elif i > 150:\n",
    "        continue\n",
    "    elif i % 5 == 0:\n",
    "        print(i)"
   ]
  },
  {
   "cell_type": "code",
   "execution_count": 11,
   "id": "88dc42c7",
   "metadata": {},
   "outputs": [
    {
     "name": "stdout",
     "output_type": "stream",
     "text": [
      "Total number of digits is: 6\n"
     ]
    }
   ],
   "source": [
    "#Count the total number of digits in a number\n",
    "def countnum(num):\n",
    "    return len(str(num))\n",
    "\n",
    "a = countnum(123456)\n",
    "print(\"Total number of digits is:\",a)"
   ]
  },
  {
   "cell_type": "code",
   "execution_count": 12,
   "id": "ae874d90",
   "metadata": {},
   "outputs": [
    {
     "name": "stdout",
     "output_type": "stream",
     "text": [
      "5 4 3 2 1 \n",
      "4 3 2 1 \n",
      "3 2 1 \n",
      "2 1 \n",
      "1 \n",
      "\n"
     ]
    }
   ],
   "source": [
    "#Write a program to use for loop to print the following reverse number pattern\n",
    "a = 5\n",
    "b = 5\n",
    "for i in range(0, a+1):\n",
    "    for j in range(b-i, 0, -1):\n",
    "        print(j, end=\" \")\n",
    "    print()"
   ]
  },
  {
   "cell_type": "code",
   "execution_count": 13,
   "id": "08fb2a7e",
   "metadata": {},
   "outputs": [
    {
     "name": "stdout",
     "output_type": "stream",
     "text": [
      "22\n",
      "45\n",
      "98\n",
      "12\n",
      "65\n",
      "34\n"
     ]
    }
   ],
   "source": [
    "#Print list in reverse order using a loop\n",
    "list1 = [34, 65, 12, 98, 45, 22]\n",
    "list2 = reversed(list1)\n",
    "for item in list2:\n",
    "    print(item)"
   ]
  },
  {
   "cell_type": "code",
   "execution_count": 16,
   "id": "947dedc9",
   "metadata": {},
   "outputs": [
    {
     "name": "stdout",
     "output_type": "stream",
     "text": [
      "-10\n",
      "-9\n",
      "-8\n",
      "-7\n",
      "-6\n",
      "-5\n",
      "-4\n",
      "-3\n",
      "-2\n",
      "-1\n"
     ]
    }
   ],
   "source": [
    "#Display numbers from -10 to -1 using for loop\n",
    "for i in range(-10, 0, 1):\n",
    "    print(i)"
   ]
  },
  {
   "cell_type": "code",
   "execution_count": 18,
   "id": "80937a69",
   "metadata": {},
   "outputs": [
    {
     "name": "stdout",
     "output_type": "stream",
     "text": [
      "0\n",
      "1\n",
      "2\n",
      "3\n",
      "4\n",
      "5\n",
      "6\n",
      "Done\n"
     ]
    }
   ],
   "source": [
    "#Use else block to display a message “Done” after successful execution of for loop\n",
    "for i in range(0,7):\n",
    "    print(i)\n",
    "else:\n",
    "    print(\"Done\")"
   ]
  },
  {
   "cell_type": "code",
   "execution_count": 36,
   "id": "1f18ef3b",
   "metadata": {},
   "outputs": [
    {
     "name": "stdout",
     "output_type": "stream",
     "text": [
      "29\n"
     ]
    }
   ],
   "source": [
    "#Write a program to display all prime numbers within a range\n",
    "start = 25\n",
    "end = 30\n",
    "\n",
    "for i in range(start, end + 1):\n",
    "    if i > 1:\n",
    "        for j in range(2,i):\n",
    "            if (i % j) == 0:\n",
    "                break          \n",
    "        else:\n",
    "            print(i)"
   ]
  },
  {
   "cell_type": "code",
   "execution_count": 44,
   "id": "926ae44e",
   "metadata": {},
   "outputs": [
    {
     "name": "stdout",
     "output_type": "stream",
     "text": [
      "0 1 1 2 3 5 8 13 21 34 "
     ]
    }
   ],
   "source": [
    "#Display Fibonacci series up to 10 terms\n",
    "n1 = 0\n",
    "n2 = 1\n",
    "\n",
    "for i in range(10):\n",
    "    print(n1, end=\" \")\n",
    "    r = n1 + n2\n",
    "    \n",
    "    n1 = n2\n",
    "    n2 = r"
   ]
  },
  {
   "cell_type": "code",
   "execution_count": 56,
   "id": "804614df",
   "metadata": {},
   "outputs": [
    {
     "name": "stdout",
     "output_type": "stream",
     "text": [
      "Factorial is:  120\n"
     ]
    }
   ],
   "source": [
    "#Find the factorial of a given number\n",
    "def fac(n):\n",
    "    if n==1:\n",
    "        return 1\n",
    "    else:\n",
    "        return n * fac(n-1)\n",
    "    \n",
    "a = fac(5)\n",
    "print(f\"Factorial is: \", a)"
   ]
  },
  {
   "cell_type": "code",
   "execution_count": 59,
   "id": "90b06344",
   "metadata": {},
   "outputs": [
    {
     "name": "stdout",
     "output_type": "stream",
     "text": [
      "4\n",
      "3\n",
      "9\n",
      "54\n",
      "87\n",
      "22\n"
     ]
    }
   ],
   "source": [
    "#Use a loop to display elements from a given list present at odd index positions\n",
    "l = [1, 4, 6, 3, 7, 9, 12, 54, 76, 87, 34, 22]\n",
    "for i in l[1::2]:\n",
    "    print(i)"
   ]
  },
  {
   "cell_type": "code",
   "execution_count": 60,
   "id": "5a3f94a0",
   "metadata": {},
   "outputs": [
    {
     "name": "stdout",
     "output_type": "stream",
     "text": [
      "Cube of number  1 is 1\n",
      "Cube of number  2 is 8\n",
      "Cube of number  3 is 27\n",
      "Cube of number  4 is 64\n",
      "Cube of number  5 is 125\n"
     ]
    }
   ],
   "source": [
    "#Calculate the cube of all numbers from 1 to a given number\n",
    "number = 5\n",
    "for i in range(1, number+1):\n",
    "    print(\"Cube of number \", i, \"is\", (i*i*i))"
   ]
  }
 ],
 "metadata": {
  "kernelspec": {
   "display_name": "Python 3 (ipykernel)",
   "language": "python",
   "name": "python3"
  },
  "language_info": {
   "codemirror_mode": {
    "name": "ipython",
    "version": 3
   },
   "file_extension": ".py",
   "mimetype": "text/x-python",
   "name": "python",
   "nbconvert_exporter": "python",
   "pygments_lexer": "ipython3",
   "version": "3.9.5"
  }
 },
 "nbformat": 4,
 "nbformat_minor": 5
}
