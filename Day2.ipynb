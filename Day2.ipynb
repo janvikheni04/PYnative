{
 "cells": [
  {
   "cell_type": "code",
   "execution_count": 1,
   "id": "8801983e",
   "metadata": {},
   "outputs": [
    {
     "name": "stdout",
     "output_type": "stream",
     "text": [
      "ABC 23\n"
     ]
    }
   ],
   "source": [
    "#Write a program to create a function that takes two arguments, name and age, and print their value.\n",
    "def f(name, age):\n",
    "    print(name, age)\n",
    "    \n",
    "a = f(\"ABC\", 23)"
   ]
  },
  {
   "cell_type": "code",
   "execution_count": 5,
   "id": "d76255a4",
   "metadata": {},
   "outputs": [
    {
     "name": "stdout",
     "output_type": "stream",
     "text": [
      "Value\n",
      "12\n",
      "89\n",
      "23\n",
      "\n",
      "Another value\n",
      "23\n",
      "12\n"
     ]
    }
   ],
   "source": [
    "#Write a program to create function func1() to accept a variable length of arguments and print their value.\n",
    "def funct1(*num):\n",
    "    for i in num:\n",
    "        print(i)\n",
    "print(\"Value\")\n",
    "funct1(12,89,23)\n",
    "print(\"\\nAnother value\")\n",
    "funct1(23, 12)  "
   ]
  },
  {
   "cell_type": "code",
   "execution_count": 7,
   "id": "244f87d2",
   "metadata": {},
   "outputs": [
    {
     "name": "stdout",
     "output_type": "stream",
     "text": [
      "(25, 15)\n"
     ]
    }
   ],
   "source": [
    "#Write a program to create function calculation() such that it can accept two variables and calculate addition and subtraction. Also, it must return both addition and subtraction in a single return call.\n",
    "def cal(v1, v2):\n",
    "    sum1 = v1 + v2\n",
    "    sub = v1 - v2\n",
    "    return sum1, sub\n",
    "\n",
    "a = cal(20, 5)\n",
    "print(a)"
   ]
  },
  {
   "cell_type": "code",
   "execution_count": 8,
   "id": "12e9c7e2",
   "metadata": {},
   "outputs": [
    {
     "name": "stdout",
     "output_type": "stream",
     "text": [
      "Name Abc Salary: 10000\n",
      "Name xyz Salary: 9000\n"
     ]
    }
   ],
   "source": [
    "#Create a function with a default argument\n",
    "def func(name, salary = 9000):\n",
    "    print(\"Name\", name, \"Salary:\", salary)\n",
    "\n",
    "func(\"Abc\", 10000)\n",
    "func(\"xyz\")"
   ]
  },
  {
   "cell_type": "code",
   "execution_count": 9,
   "id": "1315a1c2",
   "metadata": {},
   "outputs": [
    {
     "name": "stdout",
     "output_type": "stream",
     "text": [
      "55\n"
     ]
    }
   ],
   "source": [
    "#Write a program to create a recursive function to calculate the sum of numbers from 0 to 10.\n",
    "def rec(num):\n",
    "    if num:\n",
    "        return num + rec(num-1)\n",
    "    else:\n",
    "        return 0\n",
    "    \n",
    "a = rec(10)\n",
    "print(a)"
   ]
  },
  {
   "cell_type": "code",
   "execution_count": 12,
   "id": "39964349",
   "metadata": {},
   "outputs": [
    {
     "name": "stdout",
     "output_type": "stream",
     "text": [
      "A 12\n",
      "B 22\n"
     ]
    }
   ],
   "source": [
    "#Assign a different name to function and call it through the new name\n",
    "def student(name, age):\n",
    "    print(name, age)\n",
    "    \n",
    "student(\"A\", 12)\n",
    "\n",
    "show_student= student\n",
    "show_student(\"B\", 22)"
   ]
  },
  {
   "cell_type": "code",
   "execution_count": 13,
   "id": "cfef01e9",
   "metadata": {},
   "outputs": [
    {
     "name": "stdout",
     "output_type": "stream",
     "text": [
      "[4, 6, 8, 10, 12, 14, 16, 18, 20, 22, 24, 26, 28]\n"
     ]
    }
   ],
   "source": [
    "#Generate a Python list of all the even numbers between 4 to 30\n",
    "print(list(range(4,30,2)))"
   ]
  },
  {
   "cell_type": "code",
   "execution_count": 14,
   "id": "1fe2cf5a",
   "metadata": {},
   "outputs": [
    {
     "name": "stdout",
     "output_type": "stream",
     "text": [
      "24\n"
     ]
    }
   ],
   "source": [
    "#Find the largest item from a given list\n",
    "x = [4, 6, 8, 24, 12, 2]\n",
    "y = max(x)\n",
    "print(y)"
   ]
  },
  {
   "cell_type": "markdown",
   "id": "dcca8a06",
   "metadata": {},
   "source": [
    "## String"
   ]
  },
  {
   "cell_type": "code",
   "execution_count": 15,
   "id": "fd35687e",
   "metadata": {},
   "outputs": [
    {
     "name": "stdout",
     "output_type": "stream",
     "text": [
      "Original string is:  Patel\n",
      "Ptl\n"
     ]
    }
   ],
   "source": [
    "#Write a program to create a new string made of an input string’s first, middle, and last character.\n",
    "s1 = \"Patel\"\n",
    "print(\"Original string is: \", s1)\n",
    "\n",
    "l = s1[0]\n",
    "l2 = len(s1)\n",
    "m = int(l2/2)\n",
    "\n",
    "l = l + s1[m]\n",
    "l = l + s1[l2-1]\n",
    "print(l)"
   ]
  },
  {
   "cell_type": "code",
   "execution_count": 19,
   "id": "25f3531f",
   "metadata": {},
   "outputs": [
    {
     "name": "stdout",
     "output_type": "stream",
     "text": [
      "Original string:  abcdefg\n",
      "Middle 3 char. are:  cde\n",
      "Original string:  aeiou\n",
      "Middle 3 char. are:  eio\n"
     ]
    }
   ],
   "source": [
    "#Create a string made of the middle three characters\n",
    "def middle(str1):\n",
    "    print(\"Original string: \", str1)\n",
    "    \n",
    "    a = int(len(str1)/2)\n",
    "    b = str1[a-1:a+2]\n",
    "    print(\"Middle 3 char. are: \", b)\n",
    "    \n",
    "middle(\"abcdefg\")  \n",
    "middle(\"aeiou\")"
   ]
  },
  {
   "cell_type": "code",
   "execution_count": 23,
   "id": "49feaa09",
   "metadata": {},
   "outputs": [
    {
     "name": "stdout",
     "output_type": "stream",
     "text": [
      "strings:  School name\n",
      "Appending new string in middle:  Schnameool\n"
     ]
    }
   ],
   "source": [
    "#Append new string in the middle of a given string\n",
    "def middle1(s1, s2):\n",
    "    print(\"strings: \", s1, s2)\n",
    "    \n",
    "    m1 = int(len(s1)/2)\n",
    "    a = s1[:m1:]\n",
    "    a = a + s2\n",
    "    a = a + s1[m1:]\n",
    "    print(\"Appending new string in middle: \", a)\n",
    "    \n",
    "middle1(\"School\", \"name\")\n",
    "    "
   ]
  },
  {
   "cell_type": "code",
   "execution_count": 24,
   "id": "6a720045",
   "metadata": {},
   "outputs": [
    {
     "name": "stdout",
     "output_type": "stream",
     "text": [
      "Mix string is:  HGloog\n"
     ]
    }
   ],
   "source": [
    "#Create a new string made of the first, middle, and last characters of each input string\n",
    "def mix(s1, s2):\n",
    "    fc = s1[0] + s2[0]\n",
    "    mc = s1[int(len(s1)/2):int(len(s1)/2) + 1] + s2[int(len(s2)/2): int(len(s2)/2)+1]\n",
    "    lc = s1[len(s1)-1] + s2[len(s2)-1]\n",
    "    \n",
    "    total = fc + mc + lc\n",
    "    print(\"Mix string is: \", total)\n",
    "mix(\"Hello\", \"GoodMorning\")"
   ]
  },
  {
   "cell_type": "code",
   "execution_count": 28,
   "id": "10fdbe8d",
   "metadata": {},
   "outputs": [
    {
     "name": "stdout",
     "output_type": "stream",
     "text": [
      "Counts -\n",
      "Charecters= 8 Digits= 4 Symbol= 3\n"
     ]
    }
   ],
   "source": [
    "#Count all letters, digits, and special symbols from a given string\n",
    "def func(str1):\n",
    "    char1 = 0\n",
    "    digit = 0\n",
    "    symbol = 0\n",
    "    \n",
    "    for i in str1:\n",
    "        if i.isalpha():\n",
    "            char1 += 1\n",
    "        elif i.isdigit():\n",
    "            digit += 1\n",
    "        else:\n",
    "            symbol += 1\n",
    "            \n",
    "    print(\"Charecters=\", char1, \"Digits=\", digit, \"Symbol=\", symbol)\n",
    "    \n",
    "a = \"Ajo46!j9dg%jd3#\"\n",
    "print(\"Counts -\")\n",
    "func(a)"
   ]
  },
  {
   "cell_type": "code",
   "execution_count": 30,
   "id": "4ab72619",
   "metadata": {},
   "outputs": [
    {
     "name": "stdout",
     "output_type": "stream",
     "text": [
      "zbyaxc\n"
     ]
    }
   ],
   "source": [
    "#Create a mixed String using the following rules\n",
    "#Given two strings, s1 and s2. Write a program to create a new string s3 made of the first char of s1, then the last char of s2, Next, the second char of s1 and second last char of s2, and so on. Any leftover chars go at the end of the result.\n",
    "s1 = \"zyx\"\n",
    "s2 = \"cab\"\n",
    "\n",
    "s1_l = len(s1)\n",
    "s2_l = len(s2)\n",
    "\n",
    "length = s1_l if s1_l > s2_l else s2_l\n",
    "r = \"\"\n",
    "\n",
    "s2 = s2[::-1]\n",
    "\n",
    "for i in range(length):\n",
    "    if i < s1_l:\n",
    "        r = r + s1[i]\n",
    "        \n",
    "    if i < s2_l:\n",
    "        r = r + s2[i]\n",
    "print(r)        "
   ]
  },
  {
   "cell_type": "code",
   "execution_count": 34,
   "id": "335bb6b2",
   "metadata": {},
   "outputs": [
    {
     "name": "stdout",
     "output_type": "stream",
     "text": [
      "Result: True\n"
     ]
    }
   ],
   "source": [
    "#Write a program to check if two strings are balanced. For example, strings s1 and s2 are balanced if all the characters in the s1 are present in s2. The character’s position doesn’t matter.\n",
    "def bal(s1, s2):\n",
    "    a = True\n",
    "    for i in s1:\n",
    "        if i in s2:\n",
    "            continue \n",
    "        else:\n",
    "            a = False\n",
    "    return a\n",
    "\n",
    "s1 = \"ab\"\n",
    "s2 = \"abc circle\"\n",
    "a = bal(s1,s2)\n",
    "print(\"Result:\",a)"
   ]
  },
  {
   "cell_type": "code",
   "execution_count": 38,
   "id": "82d53d54",
   "metadata": {},
   "outputs": [
    {
     "name": "stdout",
     "output_type": "stream",
     "text": [
      "USA count: 2\n"
     ]
    }
   ],
   "source": [
    "#Write a program to find all occurrences of “USA” in a given string ignoring the case.\n",
    "str1 = \"Welcome to USA. usa awesome, isn't it?\"\n",
    "str2 = \"USA\"\n",
    "\n",
    "s = str1.lower()\n",
    "c1 = s.count(str2.lower())\n",
    "print(\"USA count:\", c1)\n",
    "\n"
   ]
  },
  {
   "cell_type": "code",
   "execution_count": 39,
   "id": "4b4e6745",
   "metadata": {},
   "outputs": [
    {
     "name": "stdout",
     "output_type": "stream",
     "text": [
      "Sum is: 38 Average is 6.333333333333333\n"
     ]
    }
   ],
   "source": [
    "#Given a string s1, write a program to return the sum and average of the digits that appear in the string, ignoring all other characters.\n",
    "str1 = \"PYnative29@#8496\"\n",
    "total = 0\n",
    "cnt = 0\n",
    "for i in str1:\n",
    "    if i.isdigit():\n",
    "        total += int(i)\n",
    "        cnt += 1\n",
    "avg = total/cnt\n",
    "print(\"Sum is:\", total, \"Average is\", avg)"
   ]
  },
  {
   "cell_type": "code",
   "execution_count": 42,
   "id": "3c2fd12a",
   "metadata": {},
   "outputs": [
    {
     "name": "stdout",
     "output_type": "stream",
     "text": [
      "Result: {'B': 1, 'a': 3, 'n': 2}\n"
     ]
    }
   ],
   "source": [
    "#Write a program to count occurrences of all characters within a string\n",
    "str1 = \"Banana\"\n",
    "dict1 = dict()\n",
    "for i in str1:\n",
    "    a = str1.count(i)\n",
    "    dict1[i] = a\n",
    "print(\"Result:\", dict1)\n",
    "    "
   ]
  },
  {
   "cell_type": "code",
   "execution_count": 46,
   "id": "5e24e929",
   "metadata": {},
   "outputs": [
    {
     "name": "stdout",
     "output_type": "stream",
     "text": [
      "Reverse string:  evitanYP\n"
     ]
    }
   ],
   "source": [
    "#Reverse a given string\n",
    "a= \"PYnative\"\n",
    "a = a[::-1]\n",
    "print(\"Reverse string: \", a)\n"
   ]
  },
  {
   "cell_type": "code",
   "execution_count": 48,
   "id": "ea922ba8",
   "metadata": {},
   "outputs": [
    {
     "name": "stdout",
     "output_type": "stream",
     "text": [
      "String is: Emma is a data scientist who knows Python. Emma works at google.\n",
      "last occurrence of Emma at index: 43\n"
     ]
    }
   ],
   "source": [
    "#Write a program to find the last position of a substring “Emma” in a given string.\n",
    "str1 = \"Emma is a data scientist who knows Python. Emma works at google.\"\n",
    "print(\"String is:\", str1)\n",
    "\n",
    "a = str1.rfind(\"Emma\")\n",
    "print(\"last occurrence of Emma at index:\", a)"
   ]
  },
  {
   "cell_type": "code",
   "execution_count": 50,
   "id": "ddf2be9c",
   "metadata": {},
   "outputs": [
    {
     "name": "stdout",
     "output_type": "stream",
     "text": [
      "String is: Emma-is-a-data-scientist\n",
      "Sub-string is:\n",
      "Emma\n",
      "is\n",
      "a\n",
      "data\n",
      "scientist\n"
     ]
    }
   ],
   "source": [
    "#Write a program to split a given string on hyphens and display each substring.\n",
    "str1 = \"Emma-is-a-data-scientist\"\n",
    "print(\"String is:\", str1)\n",
    "subs = str1.split(\"-\")\n",
    "print(\"Sub-string is:\")\n",
    "\n",
    "for i in subs:\n",
    "    print(i)"
   ]
  },
  {
   "cell_type": "code",
   "execution_count": 52,
   "id": "0553d293",
   "metadata": {},
   "outputs": [
    {
     "name": "stdout",
     "output_type": "stream",
     "text": [
      "['Emma', 'Jon', 'Kelly', 'Eric']\n"
     ]
    }
   ],
   "source": [
    "#Remove empty strings from a list of strings\n",
    "str_list = [\"Emma\", \"Jon\", \"\", \"Kelly\", None, \"Eric\", \"\"]\n",
    "r_list=[]\n",
    "\n",
    "for i in str_list:\n",
    "    if i:\n",
    "        r_list.append(i)\n",
    "print(r_list)        "
   ]
  },
  {
   "cell_type": "code",
   "execution_count": 54,
   "id": "3d6e59ae",
   "metadata": {},
   "outputs": [
    {
     "name": "stdout",
     "output_type": "stream",
     "text": [
      "String is: /*Jon is @developer & musician\n",
      "Result is: Jon is developer  musician\n"
     ]
    }
   ],
   "source": [
    "#Remove special symbols / punctuation from a string\n",
    "import string\n",
    "str1 = \"/*Jon is @developer & musician\"\n",
    "print(\"String is:\", str1)\n",
    "\n",
    "new_str = str1.translate(str.maketrans('', '', string.punctuation))\n",
    "print(\"Result is:\", new_str)"
   ]
  },
  {
   "cell_type": "code",
   "execution_count": 55,
   "id": "ade98cd8",
   "metadata": {},
   "outputs": [
    {
     "name": "stdout",
     "output_type": "stream",
     "text": [
      "String is: I am 25 years and 10 months old\n",
      "\n"
     ]
    }
   ],
   "source": [
    "#Removal all characters from a string except integers\n",
    "str1 = 'I am 25 years and 10 months old'\n",
    "print(\"String is:\", str1)\n",
    "\n",
    "a = \"\". join([i for i in str1 if str1.isdigit()])\n",
    "print(a)"
   ]
  },
  {
   "cell_type": "code",
   "execution_count": 58,
   "id": "626de3bb",
   "metadata": {},
   "outputs": [
    {
     "name": "stdout",
     "output_type": "stream",
     "text": [
      "String is: Emma25 is Data scientist50 and AI Expert\n",
      "Words with alpha. and numbers:\n",
      "Emma25\n",
      "scientist50\n"
     ]
    }
   ],
   "source": [
    "#Find words with both alphabets and numbers\n",
    "str1 = \"Emma25 is Data scientist50 and AI Expert\"\n",
    "print(\"String is:\", str1)\n",
    "\n",
    "a = []\n",
    "temp = str1.split()\n",
    "\n",
    "for item in temp:\n",
    "    if any(i.isalpha() for i in item) and any(i.isdigit() for i in item):\n",
    "        a.append(item)\n",
    "\n",
    "print(\"Words with alpha. and numbers:\")\n",
    "for j in a:\n",
    "    print(j)\n",
    "    "
   ]
  },
  {
   "cell_type": "code",
   "execution_count": 62,
   "id": "9cdc6979",
   "metadata": {},
   "outputs": [
    {
     "name": "stdout",
     "output_type": "stream",
     "text": [
      "String is: /*Jon is @developer & musician!!\n",
      "Result: ##Jon is #developer # musician##\n"
     ]
    }
   ],
   "source": [
    "#Replace each special symbol with # in the following string\n",
    "import string\n",
    "str1 = '/*Jon is @developer & musician!!'\n",
    "print(\"String is:\", str1)\n",
    "rp = \"#\"\n",
    "\n",
    "for i in string.punctuation:\n",
    "    str1 = str1.replace(i, rp)\n",
    "print(\"Result:\", str1)    "
   ]
  },
  {
   "cell_type": "markdown",
   "id": "f7056094",
   "metadata": {},
   "source": [
    "## Python Data Structure Exercise"
   ]
  },
  {
   "cell_type": "code",
   "execution_count": 65,
   "id": "df50002f",
   "metadata": {},
   "outputs": [
    {
     "name": "stdout",
     "output_type": "stream",
     "text": [
      "Odd element position: [6, 12, 18]\n",
      "Even element position: [4, 12, 20, 28]\n",
      "Final list:\n",
      "[6, 12, 18, 4, 12, 20, 28]\n"
     ]
    }
   ],
   "source": [
    "#Given two lists, l1 and l2, write a program to create a third list l3 by picking an odd-index element from the list l1 and even index elements from the list l2.\n",
    "l1 = [3, 6, 9, 12, 15, 18, 21]\n",
    "l2 = [4, 8, 12, 16, 20, 24, 28]\n",
    "r = list()\n",
    "\n",
    "odd = l1[1::2]\n",
    "print(\"Odd element position:\", odd)\n",
    "\n",
    "even = l2[0::2]\n",
    "print(\"Even element position:\", even)\n",
    "\n",
    "print(\"Final list:\")\n",
    "r.extend(odd)\n",
    "r.extend(even)\n",
    "print(r)\n"
   ]
  },
  {
   "cell_type": "code",
   "execution_count": 66,
   "id": "1bf20453",
   "metadata": {},
   "outputs": [
    {
     "name": "stdout",
     "output_type": "stream",
     "text": [
      "List is: [34, 54, 67, 89, 11, 43, 94]\n",
      "After removing 4th element:  [34, 54, 67, 89, 43, 94]\n",
      "Ater adding element at 2nd position: [34, 54, 11, 67, 89, 43, 94]\n",
      "Final list: [34, 54, 11, 67, 89, 43, 94, 11]\n"
     ]
    }
   ],
   "source": [
    "#Write a program to remove the item present at index 4 and add it to the 2nd position and at the end of the list.\n",
    "list1 = [34, 54, 67, 89, 11, 43, 94]\n",
    "print(\"List is:\", list1)\n",
    "\n",
    "el = list1.pop(4)\n",
    "print(\"After removing 4th element: \", list1)\n",
    "\n",
    "list1.insert(2,el)\n",
    "print(\"Ater adding element at 2nd position:\", list1)\n",
    "\n",
    "list1.append(el)\n",
    "print(\"Final list:\", list1)\n",
    "      "
   ]
  },
  {
   "cell_type": "code",
   "execution_count": null,
   "id": "089b38fa",
   "metadata": {},
   "outputs": [],
   "source": [
    "#Slice list into 3 equal chunks and reverse each chunk\n",
    "list1 = [11, 45, 8, 23, 14, 12, 78, 45, 89]\n",
    "print(\"List is:\", list1)\n",
    "\n",
    "size = int(len(list1)/3)\n",
    "start = 0\n",
    "end = size\n",
    "\n",
    "for i in range(3):\n",
    "    ins = slice(start, end)\n",
    "    \n",
    "    chunk = list1[]"
   ]
  },
  {
   "cell_type": "code",
   "execution_count": 68,
   "id": "0a0136ce",
   "metadata": {},
   "outputs": [
    {
     "name": "stdout",
     "output_type": "stream",
     "text": [
      "{11: 2, 45: 3, 8: 1, 23: 2, 89: 1}\n"
     ]
    }
   ],
   "source": [
    "#Count the occurrence of each element from a list\n",
    "list1 = [11, 45, 8, 11, 23, 45, 23, 45, 89]\n",
    "a = dict()\n",
    "\n",
    "for i in list1:\n",
    "    if i in a:\n",
    "        a[i] += 1\n",
    "        \n",
    "    else:\n",
    "        a[i] = 1\n",
    "\n",
    "print(a)\n"
   ]
  },
  {
   "cell_type": "code",
   "execution_count": 69,
   "id": "f6665a8b",
   "metadata": {},
   "outputs": [
    {
     "name": "stdout",
     "output_type": "stream",
     "text": [
      "{(7, 49), (2, 4), (4, 16), (8, 64), (6, 36), (3, 9), (5, 25)}\n"
     ]
    }
   ],
   "source": [
    "#Create a Python set such that it shows the element from both lists in a pair\n",
    "list1 = [2, 3, 4, 5, 6, 7, 8]\n",
    "list2= [4, 9, 16, 25, 36, 49, 64]\n",
    "\n",
    "r = zip(list1, list2)\n",
    "rset = set(r)\n",
    "print(rset)"
   ]
  },
  {
   "cell_type": "code",
   "execution_count": 72,
   "id": "984fa7fe",
   "metadata": {},
   "outputs": [
    {
     "name": "stdout",
     "output_type": "stream",
     "text": [
      "Interaction is: {57, 83, 29}\n",
      "{65, 23, 42, 78}\n"
     ]
    }
   ],
   "source": [
    "#find the intersection (common) of two sets and remove those elements from the first set\n",
    "s1 = {23, 42, 65, 57, 78, 83, 29}\n",
    "s2 = {57, 83, 29, 67, 73, 43, 48}\n",
    "\n",
    "a = s1.intersection(s2)\n",
    "print(\"Interaction is:\", a)\n",
    "\n",
    "for i in a:\n",
    "    s1.remove(i)\n",
    "print(s1)"
   ]
  },
  {
   "cell_type": "code",
   "execution_count": 74,
   "id": "19bdba59",
   "metadata": {},
   "outputs": [
    {
     "name": "stdout",
     "output_type": "stream",
     "text": [
      "first set is subset of secound: True\n",
      "secound set is subset of first: False\n",
      "first set is super-set of secound: False\n",
      "secound set is super-set of first: True\n",
      "first set: set()\n",
      "secound set: {48, 34, 53, 22, 27, 43, 93}\n"
     ]
    }
   ],
   "source": [
    "#Checks if one set is a subset or superset of another set. If found, delete all elements from that set\n",
    "s1 = {27, 43, 34}\n",
    "s2 = {34, 93, 22, 27, 43, 53, 48}\n",
    "\n",
    "print(\"first set is subset of secound:\", s1.issubset(s2))\n",
    "print(\"secound set is subset of first:\", s2.issubset(s1))\n",
    "\n",
    "print(\"first set is super-set of secound:\", s1.issuperset(s2))\n",
    "print(\"secound set is super-set of first:\", s2.issuperset(s1))\n",
    "\n",
    "\n",
    "if s1.issubset(s2):\n",
    "    s1.clear()\n",
    "if s2.issubset(s1):\n",
    "    s2.clear()\n",
    "    \n",
    "print(\"first set:\", s1)\n",
    "print(\"secound set:\", s2)"
   ]
  },
  {
   "cell_type": "code",
   "execution_count": 75,
   "id": "2d71adb6",
   "metadata": {},
   "outputs": [
    {
     "name": "stdout",
     "output_type": "stream",
     "text": [
      "[47, 69, 76, 97]\n"
     ]
    }
   ],
   "source": [
    "#Iterate a given list and check if a given element exists as a key’s value in a dictionary. If not, delete it from the list\n",
    "roll_number = [47, 64, 69, 37, 76, 83, 95, 97]\n",
    "sample_dict = {'Jhon':47, 'Emma':69, 'Kelly':76, 'Jason':97}\n",
    "\n",
    "roll_number[:] = [i for i in roll_number if i in sample_dict.values()]\n",
    "print(roll_number)"
   ]
  },
  {
   "cell_type": "code",
   "execution_count": 82,
   "id": "ac1184da",
   "metadata": {},
   "outputs": [
    {
     "name": "stdout",
     "output_type": "stream",
     "text": [
      "Main list: [87, 45, 41, 65, 94, 41, 99, 94]\n",
      "Unique list: [65, 99, 41, 45, 87, 94]\n",
      "Tuple: (65, 99, 41, 45, 87, 94)\n",
      "Min: 41\n",
      "Max: 99\n"
     ]
    }
   ],
   "source": [
    "#Remove duplicates from a list and create a tuple and find the minimum and maximum number\n",
    "sample_list = [87, 45, 41, 65, 94, 41, 99, 94]\n",
    "print(\"Main list:\", sample_list)\n",
    "l1 = list(set(sample_list))\n",
    "print(\"Unique list:\", l1)\n",
    "\n",
    "l2 = tuple(l1)\n",
    "print(\"Tuple:\",l2)\n",
    "print(\"Min:\", min(l2))\n",
    "print(\"Max:\", max(l2))\n"
   ]
  },
  {
   "cell_type": "markdown",
   "id": "7a66b5c6",
   "metadata": {},
   "source": [
    "## Python List Exercise"
   ]
  },
  {
   "cell_type": "code",
   "execution_count": 89,
   "id": "9aa41a46",
   "metadata": {},
   "outputs": [
    {
     "name": "stdout",
     "output_type": "stream",
     "text": [
      "[100, 200, 300, 400, 500]\n",
      "[500, 400, 300, 200, 100]\n"
     ]
    }
   ],
   "source": [
    "#Reverse a list in Python\n",
    "list1 = [100, 200, 300, 400, 500]\n",
    "print(list1)\n",
    "list1.reverse()\n",
    "print(list1)"
   ]
  },
  {
   "cell_type": "code",
   "execution_count": 90,
   "id": "4b9f28df",
   "metadata": {},
   "outputs": [
    {
     "name": "stdout",
     "output_type": "stream",
     "text": [
      "['My', 'name', 'is', 'Kelly']\n"
     ]
    }
   ],
   "source": [
    "#concatenate two lists index-wise\n",
    "list1 = [\"M\", \"na\", \"i\", \"Ke\"]\n",
    "list2 = [\"y\", \"me\", \"s\", \"lly\"]\n",
    "\n",
    "a = [i + j for i, j in zip(list1, list2)]\n",
    "print(a)\n"
   ]
  },
  {
   "cell_type": "code",
   "execution_count": 91,
   "id": "3caee772",
   "metadata": {},
   "outputs": [
    {
     "name": "stdout",
     "output_type": "stream",
     "text": [
      "[1, 4, 9, 16, 25, 36, 49]\n"
     ]
    }
   ],
   "source": [
    "#Turn every item of a list into its square\n",
    "n = [1, 2, 3, 4, 5, 6, 7]\n",
    "a = []\n",
    "\n",
    "for i in n:\n",
    "    a.append(i*i)\n",
    "print(a)\n",
    "    \n"
   ]
  },
  {
   "cell_type": "code",
   "execution_count": 93,
   "id": "0d939033",
   "metadata": {},
   "outputs": [
    {
     "name": "stdout",
     "output_type": "stream",
     "text": [
      "['Hello Dear', 'Hello Sir', 'take Dear', 'take Sir']\n"
     ]
    }
   ],
   "source": [
    "#Concatenate two lists in the following order\n",
    "list1 = [\"Hello \", \"take \"]\n",
    "list2 = [\"Dear\", \"Sir\"]\n",
    "r = [a+b for a in list1 for b in list2]\n",
    "print(r)"
   ]
  },
  {
   "cell_type": "code",
   "execution_count": 95,
   "id": "ccc86e28",
   "metadata": {},
   "outputs": [
    {
     "name": "stdout",
     "output_type": "stream",
     "text": [
      "10 400\n",
      "20 300\n",
      "30 200\n",
      "40 100\n"
     ]
    }
   ],
   "source": [
    "#Iterate both lists simultaneously\n",
    "list1 = [10, 20, 30, 40]\n",
    "list2 = [100, 200, 300, 400]\n",
    "for a,b in zip(list1, list2[::-1]):\n",
    "    print(a,b)\n"
   ]
  },
  {
   "cell_type": "code",
   "execution_count": 96,
   "id": "c0869532",
   "metadata": {},
   "outputs": [
    {
     "name": "stdout",
     "output_type": "stream",
     "text": [
      "['Mike', 'Emma', 'Kelly', 'Brad']\n"
     ]
    }
   ],
   "source": [
    "#Remove empty strings from the list of strings\n",
    "list1 = [\"Mike\", \"\", \"Emma\", \"Kelly\", \"\", \"Brad\"]\n",
    "r = list(filter(None, list1))\n",
    "print(r)"
   ]
  },
  {
   "cell_type": "code",
   "execution_count": 97,
   "id": "c61ec5de",
   "metadata": {},
   "outputs": [
    {
     "name": "stdout",
     "output_type": "stream",
     "text": [
      "[10, 20, [300, 400, [5000, 6000, 7000], 500], 30, 40]\n"
     ]
    }
   ],
   "source": [
    "#Write a program to add item 7000 after 6000 in the following Python List\n",
    "list1 = [10, 20, [300, 400, [5000, 6000], 500], 30, 40]\n",
    "\n",
    "list1[2][2].append(7000)\n",
    "print(list1)"
   ]
  },
  {
   "cell_type": "code",
   "execution_count": 99,
   "id": "6e6d07ce",
   "metadata": {},
   "outputs": [
    {
     "name": "stdout",
     "output_type": "stream",
     "text": [
      "['a', 'b', ['c', ['d', 'e', ['f', 'g', 'h', 'i', 'j'], 'k'], 'l'], 'm', 'n']\n"
     ]
    }
   ],
   "source": [
    "#Extend nested list by adding the sublist\n",
    "list1 = [\"a\", \"b\", [\"c\", [\"d\", \"e\", [\"f\", \"g\"], \"k\"], \"l\"], \"m\", \"n\"]\n",
    "sub_list = [\"h\", \"i\", \"j\"]\n",
    "\n",
    "list1[2][1][2].extend(sub_list)\n",
    "print(list1)"
   ]
  },
  {
   "cell_type": "code",
   "execution_count": 102,
   "id": "f3714728",
   "metadata": {},
   "outputs": [
    {
     "name": "stdout",
     "output_type": "stream",
     "text": [
      "[5, 10, 15, 200, 25, 50, 20]\n"
     ]
    }
   ],
   "source": [
    "#Replace list’s item with new value if found\n",
    "#Write a program to find value 20 in the list, and if it is present, replace it with 200. Only update the first occurrence of an item.\n",
    "list1 = [5, 10, 15, 20, 25, 50, 20]\n",
    "i1 = list1.index(20)\n",
    "list1[i1] = 200\n",
    "print(list1)"
   ]
  },
  {
   "cell_type": "code",
   "execution_count": 104,
   "id": "1749f27a",
   "metadata": {},
   "outputs": [
    {
     "name": "stdout",
     "output_type": "stream",
     "text": [
      "[5, 15, 25, 50]\n"
     ]
    }
   ],
   "source": [
    "#Remove all occurrences of a specific item from a list.\n",
    "list1 = [5, 20, 15, 20, 25, 50, 20]\n",
    "while 20 in list1:\n",
    "    list1.remove(20)\n",
    "    \n",
    "print(list1)"
   ]
  },
  {
   "cell_type": "code",
   "execution_count": null,
   "id": "c210ee09",
   "metadata": {},
   "outputs": [],
   "source": []
  }
 ],
 "metadata": {
  "kernelspec": {
   "display_name": "Python 3 (ipykernel)",
   "language": "python",
   "name": "python3"
  },
  "language_info": {
   "codemirror_mode": {
    "name": "ipython",
    "version": 3
   },
   "file_extension": ".py",
   "mimetype": "text/x-python",
   "name": "python",
   "nbconvert_exporter": "python",
   "pygments_lexer": "ipython3",
   "version": "3.9.5"
  }
 },
 "nbformat": 4,
 "nbformat_minor": 5
}
